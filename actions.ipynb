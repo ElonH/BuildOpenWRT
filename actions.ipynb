{
 "metadata": {
  "language_info": {
   "codemirror_mode": {
    "name": "ipython",
    "version": 3
   },
   "file_extension": ".py",
   "mimetype": "text/x-python",
   "name": "python",
   "nbconvert_exporter": "python",
   "pygments_lexer": "ipython3",
   "version": 3
  },
  "orig_nbformat": 2,
  "kernelspec": {
   "name": "python_defaultSpec_1595866369445",
   "display_name": "Python 3.6.9 64-bit ('.venv': venv)"
  }
 },
 "nbformat": 4,
 "nbformat_minor": 2,
 "cells": [
  {
   "cell_type": "code",
   "execution_count": 4,
   "metadata": {},
   "outputs": [],
   "source": [
    "import yaml,json\n",
    "from pathlib import Path\n",
    "__file__ = 'actions.ipynb'"
   ]
  },
  {
   "cell_type": "code",
   "execution_count": 7,
   "metadata": {
    "tags": []
   },
   "outputs": [
    {
     "output_type": "stream",
     "name": "stdout",
     "text": "/mnt/A/opde/.github/workflows/openwrt.yml\n"
    },
    {
     "output_type": "execute_result",
     "data": {
      "text/plain": "21880"
     },
     "metadata": {},
     "execution_count": 7
    }
   ],
   "source": [
    "ActionFile=Path(__file__).absolute().parent.joinpath('.github/workflows/openwrt.yml')\n",
    "print(ActionFile)\n",
    "# print(json.dumps(yaml.load(ActionFile.read_text()),indent=2))\n",
    "# Path().joinpath('actions.json').write_text(json.dumps(yaml.load(ActionFile.read_text()),indent=2))"
   ]
  },
  {
   "cell_type": "code",
   "execution_count": 33,
   "metadata": {
    "tags": []
   },
   "outputs": [
    {
     "output_type": "execute_result",
     "data": {
      "text/plain": "{'name': 'OpeWRT',\n 'on': {'push': {'branches': ['master']}},\n 'jobs': {'APT': {'run-on': ('ubuntu-18.04',),\n   'strategy': {'fail-fast': False},\n   'steps': [{'uses': 'actions/checkout@v2'},\n    {'run': '[[ \"${{secrets.RELEASE_TOKEN}}\" ]] || false'}]}}}"
     },
     "metadata": {},
     "execution_count": 33
    }
   ],
   "source": [
    "\n",
    "class WorkFlow:\n",
    "    'github action workflow'\n",
    "\n",
    "    def _gen_empty_job(self):\n",
    "        'generate empty job frame work'\n",
    "        job = {}\n",
    "        job['run-on']= 'ubuntu-18.04', # build system\n",
    "        job[\"strategy\"]= {\n",
    "        \"fail-fast\": False\n",
    "        }\n",
    "        return job\n",
    "    def _gen_empty_steps(self):\n",
    "        'initilize steps'\n",
    "        return [\n",
    "            {'uses': 'actions/checkout@v2'}\n",
    "        ]\n",
    "    def apt_job(self):\n",
    "        'cache apt'\n",
    "        job_apt = self._gen_empty_job()\n",
    "        stps:list = self._gen_empty_steps()\n",
    "        stps.append(\n",
    "            # {'run': '[[ \"${{secrets.RELEASE_TOKEN}}\" ]] || false'},\n",
    "            {'id': 'time', 'run':\n",
    "            'echo \"::set-output name=date::$(date +'%Y-%m')\"'\n",
    "            }\n",
    "        )\n",
    "        job_apt['steps']=stps\n",
    "        return job_apt\n",
    "\n",
    "    def __init__(self):\n",
    "        self.branches = ['master']\n",
    "        # self.own_token = '${{secrets.RELEASE_TOKEN}}'\n",
    "        self.bot_token = '${{ secrets.GITHUB_TOKEN }}'\n",
    "        data={}\n",
    "\n",
    "        data['name']='OpeWRT'\n",
    "        data['on']={\n",
    "            'push': {\n",
    "                \"branches\": self.branches\n",
    "            }\n",
    "        }\n",
    "        data['jobs']={\n",
    "            'APT': self.apt_job()\n",
    "        }\n",
    "        self.data = data\n",
    "        pass\n",
    "\n",
    "work_flow = WorkFlow()\n",
    "# print(json.dumps(work_flow.data,indent=2))\n",
    "work_flow.data"
   ]
  }
 ]
}