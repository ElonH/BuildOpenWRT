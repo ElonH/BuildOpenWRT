{
 "cells": [
  {
   "cell_type": "code",
   "execution_count": null,
   "metadata": {},
   "outputs": [],
   "source": [
    "from pathlib import Path"
   ]
  },
  {
   "cell_type": "code",
   "execution_count": null,
   "metadata": {
    "tags": []
   },
   "outputs": [],
   "source": [
    "__file__ = \"openwrt.ipynb\"\n",
    "TopDir = Path(__file__).parent.absolute()\n",
    "print(TopDir)\n",
    "ProjectName = 'tests'\n"
   ]
  },
  {
   "cell_type": "code",
   "execution_count": null,
   "metadata": {
    "tags": []
   },
   "outputs": [],
   "source": [
    "import json\n",
    "# internal var\n",
    "ProjectDir = TopDir.joinpath(ProjectName)\n",
    "TreeFile = ProjectDir.joinpath('deps.dag.json')\n",
    "logsAst = json.loads(ProjectDir.joinpath('logs.ast.json').read_text())\n",
    "packageInfoAst = json.loads(ProjectDir.joinpath('package.ast.json').read_text())\n",
    "targetInfoAst = json.loads(ProjectDir.joinpath('target.ast.json').read_text())\n",
    "\n",
    "# print(packageInfoAst)"
   ]
  },
  {
   "cell_type": "code",
   "execution_count": null,
   "metadata": {
    "tags": []
   },
   "outputs": [],
   "source": [
    "from src.configer import *\n",
    "\n",
    "class Configer2(Configer):\n",
    "    pass\n",
    "\n",
    "configer = Configer2()\n",
    "configer.mkdir_all(targetInfoAst)\n",
    "configer.compose('x86','64')\n"
   ]
  }
 ],
 "metadata": {
  "language_info": {
   "codemirror_mode": {
    "name": "ipython",
    "version": 3
   },
   "file_extension": ".py",
   "mimetype": "text/x-python",
   "name": "python",
   "nbconvert_exporter": "python",
   "pygments_lexer": "ipython3",
   "version": "3.6.9-final"
  },
  "orig_nbformat": 2,
  "kernelspec": {
   "name": "python3",
   "display_name": "Python 3"
  }
 },
 "nbformat": 4,
 "nbformat_minor": 2
}