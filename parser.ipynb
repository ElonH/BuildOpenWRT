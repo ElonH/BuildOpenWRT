{
 "cells": [
  {
   "cell_type": "code",
   "execution_count": null,
   "metadata": {},
   "outputs": [],
   "source": [
    "from pathlib import Path"
   ]
  },
  {
   "cell_type": "code",
   "execution_count": null,
   "metadata": {
    "tags": []
   },
   "outputs": [],
   "source": [
    "__file__ = \"openwrt.ipynb\"\n",
    "TopDir = Path(__file__).parent.absolute()\n",
    "print(TopDir)\n",
    "ProjectName = 'tests'\n"
   ]
  },
  {
   "cell_type": "code",
   "execution_count": null,
   "metadata": {
    "tags": []
   },
   "outputs": [],
   "source": [
    "# internal var\n",
    "ProjectDir = TopDir.joinpath(ProjectName)\n",
    "PackageInfoFile:Path = ProjectDir.joinpath('tmp', '.packageinfo')\n",
    "TargetInfoFile:Path = ProjectDir.joinpath('tmp', '.targetinfo')\n",
    "LogFile:Path = ProjectDir.joinpath('logs/package/feeds/packages/ffmpeg/full/compile.txt')\n",
    "print(PackageInfoFile)\n",
    "print(TargetInfoFile)\n",
    "print(LogFile)"
   ]
  },
  {
   "cell_type": "markdown",
   "metadata": {},
   "source": [
    "## packages info lexer"
   ]
  },
  {
   "cell_type": "code",
   "execution_count": null,
   "metadata": {
    "tags": []
   },
   "outputs": [],
   "source": [
    "import re\n",
    "import json\n",
    "from src.lexer.packageinfo import PackageInfoLexer\n",
    "from src.parser.packageinfo import PackageInfoParser\n",
    "\n",
    "testFullString = PackageInfoFile.read_text()\n",
    "### hack some code to pass through laxer\n",
    "testFullString = re.sub('\\t\\t\\t/sys/module/iwlwifi/parameters/debug','\\t\\t  /sys/module/iwlwifi/parameters/debug',testFullString)\n",
    "testFullString = re.sub('\\t\\t\\t  % echo 0x43fff > /sys/module/iwlwifi/parameters/debug','\\t\\t    % echo 0x43fff > /sys/module/iwlwifi/parameters/debug',testFullString)\n",
    "testFullString = re.sub('\\t\\t\\t  drivers/net/wireless/intel/iwlwifi/iwl-debug.h','\\t\\t    drivers/net/wireless/intel/iwlwifi/iwl-debug.h',testFullString)\n",
    "\n",
    "m = PackageInfoLexer()\n",
    "m.build(debug=False)           # Build the lexer\n",
    "p = PackageInfoParser()\n",
    "p.build(m.lexer)\n",
    "packageInfoAst = p.gen_ast(testFullString)\n",
    "with open(ProjectDir.joinpath('package.ast.json').as_posix(),'w') as f:\n",
    "    f.write(json.dumps(packageInfoAst,indent=2,sort_keys=True))\n",
    "# print(p.test(testFullString))\n",
    "# m.testSlient(testFullString)     # Test it\n",
    "print('Done')\n"
   ]
  },
  {
   "cell_type": "code",
   "execution_count": null,
   "metadata": {
    "tags": []
   },
   "outputs": [],
   "source": [
    "from src.lexer.targetinfo import TargetInfoLexer\n",
    "from src.parser.targetinfo import TargetInfoParser\n",
    "import ply.yacc as yacc\n",
    "# from src.ast.targetinfo import *\n",
    "testFullString = TargetInfoFile.read_text()\n",
    "\n",
    "\n",
    "m = TargetInfoLexer()\n",
    "m.build(debug=False)           # Build the lexer\n",
    "p = TargetInfoParser()\n",
    "p.build(lexer=m.lexer)\n",
    "targetInfoAst = p.gen_ast(testFullString)\n",
    "with open(ProjectDir.joinpath('target.ast.json').as_posix(),'w') as f:\n",
    "    f.write(json.dumps(targetInfoAst,indent=2,sort_keys=True))\n",
    "# print(p.test(testFullString))\n",
    "# m.lexer.input(testFullString)\n",
    "# m.testSlient(testFullString)     # Test it\n",
    "print('Done')\n"
   ]
  },
  {
   "cell_type": "code",
   "execution_count": null,
   "metadata": {
    "tags": []
   },
   "outputs": [],
   "source": [
    "from src.lexer.logs import LogLexer\n",
    "from src.parser.logparser import LogParser\n",
    "import json\n",
    "testFullString = LogFile.read_text()\n",
    "\n",
    "\n",
    "\n",
    "m = LogLexer()\n",
    "m.build(debug=False)           # Build the lexer\n",
    "p = LogParser()\n",
    "p.build(lexer=m.lexer)\n",
    "LogAst = p.gen_ast(testFullString)\n",
    "with open(ProjectDir.joinpath('log.ast.json').as_posix(),'w') as f:\n",
    "    f.write(json.dumps(LogAst,indent=2,sort_keys=True))\n",
    "# print(p.test(testFullString))\n",
    "# m.lexer.input(testFullString)\n",
    "# m.testSlient(testFullString)     # Test it\n",
    "print('Done')\n"
   ]
  }
 ],
 "metadata": {
  "language_info": {
   "codemirror_mode": {
    "name": "ipython",
    "version": 3
   },
   "file_extension": ".py",
   "mimetype": "text/x-python",
   "name": "python",
   "nbconvert_exporter": "python",
   "pygments_lexer": "ipython3",
   "version": "3.6.9-final"
  },
  "orig_nbformat": 2,
  "kernelspec": {
   "name": "python3",
   "display_name": "Python 3"
  }
 },
 "nbformat": 4,
 "nbformat_minor": 2
}