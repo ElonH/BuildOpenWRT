{
 "metadata": {
  "language_info": {
   "codemirror_mode": {
    "name": "ipython",
    "version": 3
   },
   "file_extension": ".py",
   "mimetype": "text/x-python",
   "name": "python",
   "nbconvert_exporter": "python",
   "pygments_lexer": "ipython3",
   "version": 3
  },
  "orig_nbformat": 2,
  "kernelspec": {
   "name": "python_defaultSpec_1595829357057",
   "display_name": "Python 3.6.9 64-bit ('.venv': venv)"
  }
 },
 "nbformat": 4,
 "nbformat_minor": 2,
 "cells": [
  {
   "cell_type": "code",
   "execution_count": null,
   "metadata": {
    "tags": []
   },
   "outputs": [],
   "source": [
    "import json\n",
    "from pathlib import Path\n",
    "__file__ = \"openwrt.ipynb\"\n",
    "TopDir = Path(__file__).parent.absolute()\n",
    "print(TopDir)\n",
    "ProjectName = 'tests'\n",
    "# internal var\n",
    "ProjectDir = TopDir.joinpath(ProjectName)\n",
    "CostDbFile = ProjectDir.joinpath('cost.db.json')\n",
    "\n",
    "# print(packageInfoAst)"
   ]
  },
  {
   "cell_type": "code",
   "execution_count": null,
   "metadata": {
    "tags": []
   },
   "outputs": [],
   "source": [
    "from src.database import *\n",
    "\n",
    "class CostDb2(CostDb):\n",
    "    pass\n",
    "\n",
    "cost_db = CostDb2(CostDbFile)\n",
    "args = ({\n",
    "    \"exit-code\": 0,\n",
    "    \"user-time\": 0.46,\n",
    "    \"system-time\": 0.28,\n",
    "    \"time\": 3.74,\n",
    "    \"subdir\": \"package/utils/e2fsprogs\",\n",
    "    \"target\": \"\",\n",
    "    \"build-type\": \"\",\n",
    "    \"build-variant\": \"compile\"\n",
    "  },'x86','64')\n",
    "\n",
    "cost_db.upsert(*args)\n",
    "cost_db.cost(*args)\n",
    "# print(*args)"
   ]
  }
 ]
}