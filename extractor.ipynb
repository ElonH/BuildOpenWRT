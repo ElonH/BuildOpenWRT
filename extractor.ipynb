{
 "cells": [
  {
   "cell_type": "code",
   "execution_count": null,
   "metadata": {},
   "outputs": [],
   "source": [
    "from pathlib import Path"
   ]
  },
  {
   "cell_type": "code",
   "execution_count": null,
   "metadata": {
    "tags": []
   },
   "outputs": [],
   "source": [
    "__file__ = \"openwrt.ipynb\"\n",
    "TopDir = Path(__file__).parent.absolute()\n",
    "print(TopDir)\n",
    "ProjectName = 'tests'\n"
   ]
  },
  {
   "cell_type": "code",
   "execution_count": null,
   "metadata": {
    "tags": []
   },
   "outputs": [],
   "source": [
    "import json\n",
    "# internal var\n",
    "ProjectDir = TopDir.joinpath(ProjectName)\n",
    "LogDir = ProjectDir.joinpath('logs')\n",
    "# with open(ProjectDir.joinpath('package.ast.json').as_posix(), 'r') as f:\n",
    "#     packageInfoAst = json.loads(f.read())\n",
    "# print(packageInfoAst)"
   ]
  },
  {
   "cell_type": "code",
   "execution_count": null,
   "metadata": {
    "tags": []
   },
   "outputs": [],
   "source": [
    "from src.extractor import LogsExtractor\n",
    "\n",
    "extractor = LogsExtractor(LogDir)\n",
    "# print(len(logsAst))\n",
    "ProjectDir.joinpath('logs.ast.json').write_text(extractor.toJson())"
   ]
  }
 ],
 "metadata": {
  "language_info": {
   "codemirror_mode": {
    "name": "ipython",
    "version": 3
   },
   "file_extension": ".py",
   "mimetype": "text/x-python",
   "name": "python",
   "nbconvert_exporter": "python",
   "pygments_lexer": "ipython3",
   "version": "3.6.9-final"
  },
  "orig_nbformat": 2,
  "kernelspec": {
   "name": "python3",
   "display_name": "Python 3"
  }
 },
 "nbformat": 4,
 "nbformat_minor": 2
}