{
 "cells": [
  {
   "cell_type": "code",
   "execution_count": 1,
   "metadata": {},
   "outputs": [],
   "source": [
    "from pathlib import Path"
   ]
  },
  {
   "cell_type": "code",
   "execution_count": 2,
   "metadata": {
    "tags": []
   },
   "outputs": [
    {
     "output_type": "stream",
     "name": "stdout",
     "text": "/mnt/A/opde\n"
    }
   ],
   "source": [
    "__file__ = \"openwrt.ipynb\"\n",
    "TopDir = Path(__file__).parent.absolute()\n",
    "print(TopDir)\n",
    "ProjectName = 'ctcgfw'\n"
   ]
  },
  {
   "cell_type": "code",
   "execution_count": 3,
   "metadata": {
    "tags": []
   },
   "outputs": [
    {
     "output_type": "stream",
     "name": "stdout",
     "text": "/mnt/A/opde/ctcgfw/tmp/.packageinfo\n/mnt/A/opde/ctcgfw/tmp/.targetinfo\n"
    }
   ],
   "source": [
    "# internal var\n",
    "ProjectDir = TopDir.joinpath(ProjectName)\n",
    "PackageInfoFile:Path = ProjectDir.joinpath('tmp', '.packageinfo')\n",
    "TargetInfoFile:Path = ProjectDir.joinpath('tmp', '.targetinfo')\n",
    "print(PackageInfoFile)\n",
    "print(TargetInfoFile)"
   ]
  },
  {
   "cell_type": "markdown",
   "metadata": {},
   "source": [
    "## packages info lexer"
   ]
  },
  {
   "cell_type": "code",
   "execution_count": 4,
   "metadata": {
    "tags": []
   },
   "outputs": [
    {
     "output_type": "stream",
     "name": "stdout",
     "text": "Done\n"
    }
   ],
   "source": [
    "import re\n",
    "from src.lexer.packageinfo import PackageInfoLexer\n",
    "\n",
    "testFullString = PackageInfoFile.read_text()\n",
    "### hack some code to pass through laxer\n",
    "testFullString = re.sub('\\t\\t\\t/sys/module/iwlwifi/parameters/debug','\\t\\t  /sys/module/iwlwifi/parameters/debug',testFullString)\n",
    "testFullString = re.sub('\\t\\t\\t  % echo 0x43fff > /sys/module/iwlwifi/parameters/debug','\\t\\t    % echo 0x43fff > /sys/module/iwlwifi/parameters/debug',testFullString)\n",
    "testFullString = re.sub('\\t\\t\\t  drivers/net/wireless/intel/iwlwifi/iwl-debug.h','\\t\\t    drivers/net/wireless/intel/iwlwifi/iwl-debug.h',testFullString)\n",
    "\n",
    "m = PackageInfoLexer()\n",
    "m.build(debug=False)           # Build the lexer\n",
    "m.testSlient(testFullString)     # Test it\n",
    "print('Done')\n"
   ]
  },
  {
   "cell_type": "code",
   "execution_count": 6,
   "metadata": {
    "tags": []
   },
   "outputs": [
    {
     "output_type": "stream",
     "name": "stdout",
     "text": "Done\n"
    }
   ],
   "source": [
    "from src.lexer.targetinfo import TargetInfoLexer\n",
    "testFullString = TargetInfoFile.read_text()\n",
    "\n",
    "m = TargetInfoLexer()\n",
    "m.build(debug=False)           # Build the lexer\n",
    "m.testSlient(testFullString)     # Test it\n",
    "print('Done')\n"
   ]
  },
  {
   "cell_type": "code",
   "execution_count": null,
   "metadata": {},
   "outputs": [],
   "source": []
  }
 ],
 "metadata": {
  "language_info": {
   "codemirror_mode": {
    "name": "ipython",
    "version": 3
   },
   "file_extension": ".py",
   "mimetype": "text/x-python",
   "name": "python",
   "nbconvert_exporter": "python",
   "pygments_lexer": "ipython3",
   "version": "3.6.9-final"
  },
  "orig_nbformat": 2,
  "kernelspec": {
   "name": "python_defaultSpec_1594695399314",
   "display_name": "Python 3.6.9 64-bit ('.venv': venv)"
  }
 },
 "nbformat": 4,
 "nbformat_minor": 2
}