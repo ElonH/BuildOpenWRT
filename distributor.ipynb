{
 "cells": [
  {
   "cell_type": "code",
   "execution_count": null,
   "metadata": {},
   "outputs": [],
   "source": [
    "from pathlib import Path"
   ]
  },
  {
   "cell_type": "code",
   "execution_count": null,
   "metadata": {
    "tags": []
   },
   "outputs": [],
   "source": [
    "__file__ = \"openwrt.ipynb\"\n",
    "TopDir = Path(__file__).parent.absolute()\n",
    "print(TopDir)\n",
    "ProjectName = 'ctcgfw'\n"
   ]
  },
  {
   "cell_type": "code",
   "execution_count": null,
   "metadata": {
    "tags": []
   },
   "outputs": [],
   "source": [
    "# internal var\n",
    "ProjectDir = TopDir.joinpath(ProjectName)\n",
    "PackageInfoFile:Path = ProjectDir.joinpath('tmp', '.packageinfo')\n",
    "TargetInfoFile:Path = ProjectDir.joinpath('tmp', '.targetinfo')\n",
    "print(PackageInfoFile)\n",
    "print(TargetInfoFile)"
   ]
  },
  {
   "cell_type": "code",
   "execution_count": null,
   "metadata": {
    "tags": []
   },
   "outputs": [],
   "source": [
    "import re\n",
    "from src.lexer.packageinfo import PackageInfoLexer\n",
    "from src.parser.packageinfo import PackageInfoParser\n",
    "import ply.yacc as yacc\n",
    "import json\n",
    "\n",
    "testFullString = PackageInfoFile.read_text()\n",
    "### hack some code to pass through laxer\n",
    "testFullString = re.sub('\\t\\t\\t/sys/module/iwlwifi/parameters/debug','\\t\\t  /sys/module/iwlwifi/parameters/debug',testFullString)\n",
    "testFullString = re.sub('\\t\\t\\t  % echo 0x43fff > /sys/module/iwlwifi/parameters/debug','\\t\\t    % echo 0x43fff > /sys/module/iwlwifi/parameters/debug',testFullString)\n",
    "testFullString = re.sub('\\t\\t\\t  drivers/net/wireless/intel/iwlwifi/iwl-debug.h','\\t\\t    drivers/net/wireless/intel/iwlwifi/iwl-debug.h',testFullString)\n",
    "\n",
    "m = PackageInfoLexer()\n",
    "m.build(debug=False)           # Build the lexer\n",
    "p = PackageInfoParser()\n",
    "p.build(m.lexer)\n",
    "packageInfoAst = p.test(testFullString)\n",
    "# with open('ast.json','w') as f:\n",
    "#     f.write(json.dumps(packageInfoAst,indent=4,sort_keys=True))\n",
    "# print(p.test(testFullString))\n",
    "# m.testSlient(testFullString)     # Test it\n",
    "print('Done')\n"
   ]
  },
  {
   "cell_type": "code",
   "execution_count": null,
   "metadata": {
    "tags": []
   },
   "outputs": [],
   "source": [
    "from src.distributor import DependsTree\n",
    "tree = DependsTree()\n",
    "tree.build(packageInfoAst)\n"
   ]
  },
  {
   "cell_type": "code",
   "execution_count": null,
   "metadata": {},
   "outputs": [],
   "source": [
    "from src.distributor import WorksDistributor\n",
    "distributor = WorksDistributor()\n",
    "distributor.build(tree)\n",
    "distributor.divide(20)\n"
   ]
  }
 ],
 "metadata": {
  "language_info": {
   "codemirror_mode": {
    "name": "ipython",
    "version": 3
   },
   "file_extension": ".py",
   "mimetype": "text/x-python",
   "name": "python",
   "nbconvert_exporter": "python",
   "pygments_lexer": "ipython3",
   "version": "3.6.9-final"
  },
  "orig_nbformat": 2,
  "kernelspec": {
   "name": "python_defaultSpec_1595332511193",
   "display_name": "Python 3.6.9 64-bit ('.venv': venv)"
  }
 },
 "nbformat": 4,
 "nbformat_minor": 2
}